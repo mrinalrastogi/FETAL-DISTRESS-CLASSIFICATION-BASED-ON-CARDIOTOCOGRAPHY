{
 "cells": [
  {
   "cell_type": "code",
   "execution_count": 1,
   "metadata": {},
   "outputs": [],
   "source": [
    "class Pre_Process(object):\n",
    "    def __init__(self):\n",
    "        import glob\n",
    "        x=glob.glob('*.hea')\n",
    "        import csv\n",
    "        import os\n",
    "        from sys import argv\n",
    "        \n",
    "        strings=[]\n",
    "        integer=[]\n",
    "        j=1\n",
    "        \n",
    "            \n",
    "        for i in range(len(x)):\n",
    "            integer=[]\n",
    "            dst =\"100\" + str(j) + \".txt\"\n",
    "            os.rename(x[i],dst)\n",
    "\n",
    "            f=open(dst)\n",
    "            lines=f.readlines()\n",
    "            f.close()\n",
    "\n",
    "            f=open(dst,'w')\n",
    "\n",
    "            for line in lines:\n",
    "                f.write(line[1:])                \n",
    "            f.close()\n",
    "\n",
    "            fin=open(dst,\"r\")\n",
    "            data_list=fin.readlines()\n",
    "            fin.close()\n",
    "\n",
    "                #print(data_list)\n",
    "            del data_list[0:5]\n",
    "                #print(data_list)\n",
    "            fout=open(dst,\"w\")\n",
    "            fout.writelines(data_list)\n",
    "            fout.close()\n",
    "\n",
    "            f= open(dst,\"r\")\n",
    "            lines=f.readlines()\n",
    "            output=[]\n",
    "            mrinal=\"--\"\n",
    "            for line in lines:\n",
    "                if not line.startswith(mrinal):\n",
    "                    output.append(line)\n",
    "                    f.close()\n",
    "\n",
    "                    #print(output)\n",
    "\n",
    "                fout=open(dst,\"w\")\n",
    "                fout.writelines(output)\n",
    "                fout.close()\n",
    "\n",
    "            f=open(dst,\"r\")\n",
    "            lines=f.readlines()\n",
    "            f.close()\n",
    "            for line in lines:\n",
    "                if len(line.split())==2:\n",
    "                    strings.append(line.split()[0])\n",
    "                    integer.append(''.join(line.split()[1:]))\n",
    "\n",
    "                else:\n",
    "                    dab=line.split()[:2]\n",
    "                    integer.append(''.join(line.split()[2:]))\n",
    "\n",
    "                    s=\" \"\n",
    "                    s=s.join(dab)\n",
    "                    strings.append(s)\n",
    "\n",
    "            integer=[float(i) for i in integer]\n",
    "\n",
    "            if j==1:\n",
    "                with open(\"data.csv\",\"a\") as f:\n",
    "                    writer=csv.writer(f)\n",
    "                    writer.writerow(strings)\n",
    "            f.close()\n",
    "\n",
    "            with open(\"data.csv\",\"a\") as f:\n",
    "                writer=csv.writer(f)\n",
    "                writer.writerow(integer)\n",
    "            f.close()\n",
    "            j+=1\n",
    "            \n",
    "    def pre_again(self):\n",
    "        \n",
    "        import numpy as np\n",
    "        import pandas as pd\n",
    "        \n",
    "        dataset=pd.read_csv(\"data.csv\").fillna(0).astype(np.float32)\n",
    "        data=dataset[['pH','BDecf','pCO2','BE','Apgar1','Apgar5']]\n",
    "        x=np.array(data)\n",
    "        normal=[]\n",
    "        distress=[]\n",
    "        xyz=[]\n",
    "        j=0\n",
    "        for i in x:\n",
    "            if i[0]>=7.18 and i[0]<=7.38 and i[2]>=4.9 and i[2]<=10.7 and i[4]>=6:\n",
    "                normal.append(i)\n",
    "                xyz.append(1)     \n",
    "            else:\n",
    "                distress.append(i)\n",
    "                xyz.append(0)\n",
    "        dataset['result']=xyz\n",
    "        print(len(normal))\n",
    "        print(len(distress))\n",
    "        dataset=dataset.drop(['pH','BDecf','pCO2','BE','Apgar1','Apgar5','dbID','Rec. type','Pos. II.st.','Sig2Birth','Sex','NICU days','Seizures','HIE','Intubation','Main diag.','Other diag.'], axis=1)\n",
    "        from sklearn.preprocessing import MinMaxScaler\n",
    "        scaler = MinMaxScaler(feature_range=(0,1)) \n",
    "        scaled_values = scaler.fit_transform(dataset) \n",
    "        dataset.loc[:,:] = scaled_values\n",
    "        print(dataset.head())\n",
    "        type(dataset)\n",
    "        \n",
    "        return dataset"
   ]
  },
  {
   "cell_type": "code",
   "execution_count": 2,
   "metadata": {},
   "outputs": [],
   "source": [
    "ob1=Pre_Process()\n",
    "\n"
   ]
  },
  {
   "cell_type": "code",
   "execution_count": 3,
   "metadata": {
    "scrolled": true
   },
   "outputs": [
    {
     "name": "stdout",
     "output_type": "stream",
     "text": [
      "339\n",
      "212\n",
      "   Gest. weeks  Weight(g)       Age  Gravidity  Parity  Diabetes  \\\n",
      "0     0.000000   0.560000  0.500000   0.090909     0.0       1.0   \n",
      "1     0.666667   0.610526  0.178571   0.090909     0.0       0.0   \n",
      "2     0.500000   0.793684  0.464286   0.090909     0.0       0.0   \n",
      "3     0.666667   0.709474  0.642857   0.090909     0.0       0.0   \n",
      "4     0.666667   0.747368  0.357143   0.090909     0.0       0.0   \n",
      "\n",
      "   Hypertension  Preeclampsia  Liq. praecox  Pyrexia  Meconium  Presentation  \\\n",
      "0           0.0           0.0           1.0      0.0       0.0      0.666667   \n",
      "1           0.0           0.0           0.0      0.0       1.0      0.333333   \n",
      "2           0.0           0.0           1.0      0.0       0.0      0.333333   \n",
      "3           0.0           0.0           0.0      0.0       1.0      0.333333   \n",
      "4           0.0           0.0           0.0      0.0       0.0      0.333333   \n",
      "\n",
      "   Induced   I.stage  NoProgress  CK/KP  II.stage  Deliv. type  result  \n",
      "0      0.0  0.000666         0.0    0.0  0.677419          0.0     0.0  \n",
      "1      0.0  0.000635         0.0    0.0  0.677419          0.0     0.0  \n",
      "2      1.0  0.000623         0.0    0.0  0.516129          0.0     1.0  \n",
      "3      1.0  0.000216         0.0    0.0  0.354839          0.0     1.0  \n",
      "4      1.0  0.000366         0.0    0.0  0.516129          0.0     1.0  \n"
     ]
    },
    {
     "name": "stderr",
     "output_type": "stream",
     "text": [
      "C:\\ProgramData\\Anaconda3\\lib\\site-packages\\sklearn\\preprocessing\\data.py:323: DataConversionWarning: Data with input dtype float32, int64 were all converted to float64 by MinMaxScaler.\n",
      "  return self.partial_fit(X, y)\n"
     ]
    }
   ],
   "source": [
    "data=ob1.pre_again()"
   ]
  },
  {
   "cell_type": "code",
   "execution_count": 35,
   "metadata": {},
   "outputs": [],
   "source": [
    "class classifier(Pre_Process):\n",
    "    def split(self,class_pre_process):\n",
    "        self.dataset=class_pre_process\n",
    "        from sklearn.model_selection import train_test_split\n",
    "        self.X_train, self.X_test, self.y_train, self.y_test = train_test_split(self.dataset.drop(['result'],axis='columns'),self.dataset.result,test_size=0.2)\n",
    "        self.y_train.shape\n",
    "        self.y_test.shape\n",
    "        \n",
    "    def pie(self,x,y):\n",
    "        import matplotlib.pyplot as plt\n",
    "        self.x=x\n",
    "        self.y=y\n",
    "        labels='correct','wrong'\n",
    "        sizes=[x,y]\n",
    "        colors=['green','red']\n",
    "        explode=(0,0.15)\n",
    "        plt.pie(sizes,explode=explode,labels=labels,colors=colors,autopct='%0.2f%%', shadow=True, startangle=140)\n",
    "        plt.axis('equal')\n",
    "        plt.show()\n",
    "\n",
    "    def confusion(self,test,predict):\n",
    "        from sklearn.metrics import confusion_matrix\n",
    "        cm=confusion_matrix(test,predict)\n",
    "        x=cm[0][0]+cm[1][1]\n",
    "        y=cm[0][1]+cm[1][0]\n",
    "        print('{} : correct values, {} : wrong values'.format(x,y))\n",
    "        print('Total Predicted values : ',len(predict))\n",
    "        self.pie(x,y)\n",
    "        \n",
    "    def Random_Forest(self):        \n",
    "        from sklearn.ensemble import RandomForestClassifier\n",
    "        from sklearn.model_selection import cross_val_score\n",
    "        import time\n",
    "        y=[]\n",
    "        i=1\n",
    "        while(i<100):\n",
    "            model=RandomForestClassifier(n_estimators=i)\n",
    "            model.fit(self.X_train,self.y_train)\n",
    "            y.append(model.score(self.X_test,self.y_test))\n",
    "            i+=1\n",
    "        print('Max accuracy : ',max(y)*100)\n",
    "        print(y.index(max(y)))\n",
    "        \n",
    "        model.score(self.X_test,self.y_test)\n",
    "        y_predict=model.predict(self.X_test)\n",
    "        from sklearn.metrics import confusion_matrix\n",
    "        cm=confusion_matrix(self.y_test,y_predict)\n",
    "        print(cm)\n",
    "        self.confusion(self.y_test,y_predict)\n",
    "    \n",
    "   \n",
    "    def Gradient_Boosting(self):   \n",
    "        from sklearn.ensemble import GradientBoostingClassifier\n",
    "        let=[]\n",
    "        i=1\n",
    "        while(i<=200):\n",
    "            model=GradientBoostingClassifier(n_estimators=i,learning_rate=.05)\n",
    "            model.fit(self.X_train,self.y_train)\n",
    "            let.append(model.score(self.X_test,self.y_test))\n",
    "            i+=1\n",
    "\n",
    "        max(let)\n",
    "        model.score(self.X_test,self.y_test)\n",
    "        y_predict=model.predict(self.X_test)\n",
    "        y_predict\n",
    "        from sklearn.metrics import confusion_matrix\n",
    "        cm=confusion_matrix(self.y_test,y_predict)\n",
    "        cm\n",
    "        self.confusion(self.y_test,y_predict)\n",
    "        \n",
    "        \n",
    "    def Support_Vector_Machine(self): \n",
    "        import numpy as np\n",
    "        from sklearn import svm\n",
    "        kernels=('linear','poly','rbf','sigmoid')\n",
    "        for kernel in kernels:\n",
    "            model=svm.SVC(kernel=kernel)\n",
    "            model.fit(self.X_train,self.y_train)\n",
    "            accuracy=model.score(self.X_test,self.y_test)\n",
    "            print('Accuracy with kernel:',kernel,'is:',accuracy*100)\n",
    "            self.pie(accuracy*100,100-(accuracy*100))\n",
    "                "
   ]
  },
  {
   "cell_type": "code",
   "execution_count": 36,
   "metadata": {},
   "outputs": [],
   "source": [
    "lol=classifier()"
   ]
  },
  {
   "cell_type": "code",
   "execution_count": 37,
   "metadata": {},
   "outputs": [
    {
     "name": "stdout",
     "output_type": "stream",
     "text": [
      "Max accuracy :  64.86486486486487\n",
      "8\n",
      "[[ 7 37]\n",
      " [10 57]]\n",
      "64 : correct values, 47 : wrong values\n",
      "Total Predicted values :  111\n"
     ]
    },
    {
     "data": {
      "image/png": "[encoded data removed]",
      "text/plain": [
       "<Figure size 432x288 with 1 Axes>"
      ]
     },
     "metadata": {},
     "output_type": "display_data"
    }
   ],
   "source": [
    "lol.split(data)\n",
    "lol.Random_Forest()"
   ]
  },
  {
   "cell_type": "code",
   "execution_count": 38,
   "metadata": {},
   "outputs": [
    {
     "name": "stdout",
     "output_type": "stream",
     "text": [
      "57 : correct values, 54 : wrong values\n",
      "Total Predicted values :  111\n"
     ]
    },
    {
     "data": {
      "image/png": "[encoded data removed]",
      "text/plain": [
       "<Figure size 432x288 with 1 Axes>"
      ]
     },
     "metadata": {},
     "output_type": "display_data"
    }
   ],
   "source": [
    "lol.split(data)\n",
    "lol.Gradient_Boosting()"
   ]
  },
  {
   "cell_type": "code",
   "execution_count": 39,
   "metadata": {},
   "outputs": [
    {
     "name": "stdout",
     "output_type": "stream",
     "text": [
      "Accuracy with kernel: linear is: 63.06306306306306\n"
     ]
    },
    {
     "data": {
      "image/png": "[encoded data removed]",
      "text/plain": [
       "<Figure size 432x288 with 1 Axes>"
      ]
     },
     "metadata": {},
     "output_type": "display_data"
    },
    {
     "name": "stdout",
     "output_type": "stream",
     "text": [
      "Accuracy with kernel: poly is: 65.76576576576578\n"
     ]
    },
    {
     "name": "stderr",
     "output_type": "stream",
     "text": [
      "C:\\ProgramData\\Anaconda3\\lib\\site-packages\\sklearn\\svm\\base.py:196: FutureWarning: The default value of gamma will change from 'auto' to 'scale' in version 0.22 to account better for unscaled features. Set gamma explicitly to 'auto' or 'scale' to avoid this warning.\n",
      "  \"avoid this warning.\", FutureWarning)\n"
     ]
    },
    {
     "data": {
      "image/png": "[encoded data removed]",
      "text/plain": [
       "<Figure size 432x288 with 1 Axes>"
      ]
     },
     "metadata": {},
     "output_type": "display_data"
    },
    {
     "name": "stdout",
     "output_type": "stream",
     "text": [
      "Accuracy with kernel: rbf is: 64.86486486486487\n"
     ]
    },
    {
     "name": "stderr",
     "output_type": "stream",
     "text": [
      "C:\\ProgramData\\Anaconda3\\lib\\site-packages\\sklearn\\svm\\base.py:196: FutureWarning: The default value of gamma will change from 'auto' to 'scale' in version 0.22 to account better for unscaled features. Set gamma explicitly to 'auto' or 'scale' to avoid this warning.\n",
      "  \"avoid this warning.\", FutureWarning)\n"
     ]
    },
    {
     "data": {
      "image/png": "[encoded data removed]",
      "text/plain": [
       "<Figure size 432x288 with 1 Axes>"
      ]
     },
     "metadata": {},
     "output_type": "display_data"
    },
    {
     "name": "stdout",
     "output_type": "stream",
     "text": [
      "Accuracy with kernel: sigmoid is: 65.76576576576578\n"
     ]
    },
    {
     "name": "stderr",
     "output_type": "stream",
     "text": [
      "C:\\ProgramData\\Anaconda3\\lib\\site-packages\\sklearn\\svm\\base.py:196: FutureWarning: The default value of gamma will change from 'auto' to 'scale' in version 0.22 to account better for unscaled features. Set gamma explicitly to 'auto' or 'scale' to avoid this warning.\n",
      "  \"avoid this warning.\", FutureWarning)\n"
     ]
    },
    {
     "data": {
      "image/png": "[encoded data removed]",
      "text/plain": [
       "<Figure size 432x288 with 1 Axes>"
      ]
     },
     "metadata": {},
     "output_type": "display_data"
    }
   ],
   "source": [
    "lol.split(data)\n",
    "lol.Support_Vector_Machine()"
   ]
  },
  {
   "cell_type": "code",
   "execution_count": null,
   "metadata": {},
   "outputs": [],
   "source": []
  },
  {
   "cell_type": "code",
   "execution_count": null,
   "metadata": {},
   "outputs": [],
   "source": [
    "lol.y_train.shape"
   ]
  },
  {
   "cell_type": "code",
   "execution_count": null,
   "metadata": {},
   "outputs": [],
   "source": [
    "y_test.shape"
   ]
  },
  {
   "cell_type": "markdown",
   "metadata": {},
   "source": [
    "# Random Forest Classifier"
   ]
  },
  {
   "cell_type": "code",
   "execution_count": null,
   "metadata": {},
   "outputs": [],
   "source": [
    "%matplotlib inline\n",
    "import matplotlib.pyplot as plt\n",
    "import seaborn as sn\n",
    "plt.figure(figsize=(6,6))\n",
    "sn.heatmap(cm,annot=True)\n",
    "plt.xlabel('Predicted')\n",
    "plt.ylabel('Truth')\n",
    "\n",
    "from sklearn.metrics import confusion_matrix\n",
    "cm=confusion_matrix(y_test,y_predict)\n",
    "x=cm[0][0]+cm[1][1]\n",
    "y=cm[0][1]+cm[1][0]\n",
    "print('{} : correct values, {} : wrong values'.format(x,y))\n",
    "print('Total Predicted values : ',len(y_predict))"
   ]
  },
  {
   "cell_type": "code",
   "execution_count": null,
   "metadata": {},
   "outputs": [],
   "source": []
  },
  {
   "cell_type": "code",
   "execution_count": null,
   "metadata": {},
   "outputs": [],
   "source": []
  },
  {
   "cell_type": "markdown",
   "metadata": {},
   "source": [
    "# Gradient Boosting Classifier"
   ]
  },
  {
   "cell_type": "code",
   "execution_count": null,
   "metadata": {},
   "outputs": [],
   "source": [
    "\n",
    "    \n",
    "    "
   ]
  },
  {
   "cell_type": "code",
   "execution_count": null,
   "metadata": {},
   "outputs": [],
   "source": [
    "\n"
   ]
  },
  {
   "cell_type": "code",
   "execution_count": null,
   "metadata": {},
   "outputs": [],
   "source": []
  },
  {
   "cell_type": "code",
   "execution_count": null,
   "metadata": {},
   "outputs": [],
   "source": [
    "from sklearn.ensemble import GradientBoostingClassifier\n",
    "let=[]\n",
    "i=1\n",
    "while(i<=200):\n",
    "    model=GradientBoostingClassifier(n_estimators=i,learning_rate=.05)\n",
    "    model.fit(X_train,y_train)\n",
    "    let.append(model.score(X_test,y_test))\n",
    "    i+=1\n",
    "    \n",
    "max(let)\n",
    "\n",
    "model.score(X_test,y_test)\n",
    "y_predict=model.predict(X_test)\n",
    "y_predict\n",
    "from sklearn.metrics import confusion_matrix\n",
    "cm=confusion_matrix(y_test,y_predict)\n",
    "cm\n",
    "%matplotlib inline\n",
    "\n",
    "import matplotlib.pyplot as plt\n",
    "import seaborn as sn\n",
    "plt.figure(figsize=(6,6))\n",
    "sn.heatmap(cm,annot=True)\n",
    "plt.xlabel('Predicted')\n",
    "plt.ylabel('Truth')\n",
    "\n",
    "from sklearn.metrics import confusion_matrix\n",
    "cm=confusion_matrix(y_test,y_predict)\n",
    "x=cm[0][0]+cm[1][1]\n",
    "y=cm[0][1]+cm[1][0]\n",
    "print('{} : correct values, {} : wrong values'.format(x,y))\n",
    "print('Total Predicted values : ',len(y_predict))\n",
    "\n",
    "import matplotlib.pyplot as plt\n",
    "labels='correct','wrong'\n",
    "sizes=[x,y]\n",
    "colors=['green','red']\n",
    "explode=(0,0.15)\n",
    "plt.pie(sizes,explode=explode,labels=labels,colors=colors,autopct='%0.2f%%', shadow=True, startangle=140)\n",
    "plt.axis('equal')\n",
    "plt.show()"
   ]
  },
  {
   "cell_type": "code",
   "execution_count": null,
   "metadata": {},
   "outputs": [],
   "source": []
  },
  {
   "cell_type": "code",
   "execution_count": null,
   "metadata": {},
   "outputs": [],
   "source": []
  },
  {
   "cell_type": "code",
   "execution_count": null,
   "metadata": {},
   "outputs": [],
   "source": []
  },
  {
   "cell_type": "code",
   "execution_count": null,
   "metadata": {},
   "outputs": [],
   "source": [
    "\n"
   ]
  },
  {
   "cell_type": "markdown",
   "metadata": {},
   "source": [
    "# Support Vector Machine"
   ]
  },
  {
   "cell_type": "code",
   "execution_count": null,
   "metadata": {},
   "outputs": [],
   "source": [
    "import numpy as np\n",
    "from sklearn import svm\n",
    "\n",
    "def evaluate_on_test_data(model=None):\n",
    "    predictions=model.predict(X_test)\n",
    "    corr_classifications=0\n",
    "    #for i in range(len(y_test)):\n",
    "        #  if predictions[i]==y_test[i]:\n",
    "     #       corr_classifications+=1\n",
    "    #accuracy=100*corr_classifications/len(y_test)\n",
    "    accuracy=model.score(X_test,y_test)\n",
    "    print(type(predictions))\n",
    "    return accuracy\n",
    "\n",
    "kernels=('linear','poly','rbf','sigmoid')\n",
    "for kernel in kernels:\n",
    "    model=svm.SVC(kernel=kernel)\n",
    "    model.fit(X_train,y_train)\n",
    "    acc=evaluate_on_test_data(model)\n",
    "    print('Accuracy with kernel:',kernel,'is:',acc*100)\n"
   ]
  },
  {
   "cell_type": "code",
   "execution_count": null,
   "metadata": {},
   "outputs": [],
   "source": []
  },
  {
   "cell_type": "code",
   "execution_count": null,
   "metadata": {},
   "outputs": [],
   "source": []
  },
  {
   "cell_type": "code",
   "execution_count": null,
   "metadata": {},
   "outputs": [],
   "source": []
  }
 ],
 "metadata": {
  "kernelspec": {
   "display_name": "Python 3",
   "language": "python",
   "name": "python3"
  },
  "language_info": {
   "codemirror_mode": {
    "name": "ipython",
    "version": 3
   },
   "file_extension": ".py",
   "mimetype": "text/x-python",
   "name": "python",
   "nbconvert_exporter": "python",
   "pygments_lexer": "ipython3",
   "version": "3.7.1"
  }
 },
 "nbformat": 4,
 "nbformat_minor": 2
}
